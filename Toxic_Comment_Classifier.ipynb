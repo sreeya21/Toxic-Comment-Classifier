{
  "nbformat": 4,
  "nbformat_minor": 0,
  "metadata": {
    "colab": {
      "provenance": [],
      "authorship_tag": "ABX9TyN0U0RSKDyxGRrYm12+Kb3r",
      "include_colab_link": true
    },
    "kernelspec": {
      "name": "python3",
      "display_name": "Python 3"
    },
    "language_info": {
      "name": "python"
    }
  },
  "cells": [
    {
      "cell_type": "markdown",
      "metadata": {
        "id": "view-in-github",
        "colab_type": "text"
      },
      "source": [
        "<a href=\"https://colab.research.google.com/github/sreeya21/Toxic-Comment-Classifier/blob/main/Toxic_Comment_Classifier.ipynb\" target=\"_parent\"><img src=\"https://colab.research.google.com/assets/colab-badge.svg\" alt=\"Open In Colab\"/></a>"
      ]
    },
    {
      "cell_type": "code",
      "source": [
        "!pip install pandas\n",
        "!pip install matplotlib\n",
        "import gradio as gr\n",
        "import pandas as pd\n",
        "import numpy as np\n",
        "import tensorflow as tf\n",
        "from sklearn.model_selection import train_test_split\n",
        "from tensorflow.keras.preprocessing.text import Tokenizer\n",
        "from tensorflow.keras.preprocessing.sequence import pad_sequences\n",
        "from tensorflow.keras.models import Sequential\n",
        "from tensorflow.keras.layers import Embedding, LSTM, Dense, Dropout, Bidirectional\n",
        "from tensorflow.keras.optimizers import Adam\n",
        "import matplotlib.pyplot as plt\n",
        "\n",
        "# Load and preprocess data\n",
        "data = pd.read_csv('/train.csv')\n",
        "data = data.sample(frac=1).reset_index(drop=True)  # Shuffle the dataset\n",
        "\n",
        "# Use a smaller subset for quick testing (adjust as needed)\n",
        "data = data.sample(n=20000, random_state=42)\n",
        "\n",
        "X = data['comment_text'].values\n",
        "\n",
        "# Assuming 'toxic', 'severe_toxic', etc. are present in the dataset\n",
        "if {'toxic', 'severe_toxic', 'obscene', 'threat', 'insult', 'identity_hate'}.issubset(data.columns):\n",
        "    y = data[['toxic', 'severe_toxic', 'obscene', 'threat', 'insult', 'identity_hate']].values\n",
        "else:\n",
        "    # Handle the case where the expected columns are not found\n",
        "    print(\"Error: Expected toxicity columns not found in the dataset.\")\n",
        "    # Create dummy columns with all values as 0\n",
        "    data['toxic'] = 0\n",
        "    data['severe_toxic'] = 0\n",
        "    data['obscene'] = 0\n",
        "    data['threat'] = 0\n",
        "    data['insult'] = 0\n",
        "    data['identity_hate'] = 0\n",
        "    y = data[['toxic', 'severe_toxic', 'obscene', 'threat', 'insult', 'identity_hate']].values\n",
        "\n",
        "# Tokenize and pad sequences\n",
        "max_words = 10000\n",
        "max_len = 100\n",
        "\n",
        "tokenizer = Tokenizer(num_words=max_words)\n",
        "tokenizer.fit_on_texts(X)\n",
        "X = tokenizer.texts_to_sequences(X)\n",
        "X = pad_sequences(X, maxlen=max_len)\n",
        "\n",
        "# Split data\n",
        "X_train, X_val, y_train, y_val = train_test_split(X, y, test_size=0.2, random_state=42)\n",
        "\n",
        "# Build the model\n",
        "model = Sequential([\n",
        "    Embedding(max_words, 64, input_length=max_len),\n",
        "    Bidirectional(LSTM(64, return_sequences=True)),\n",
        "    Dropout(0.5),\n",
        "    LSTM(32),\n",
        "    Dropout(0.5),\n",
        "    Dense(32, activation='relu'),\n",
        "    Dropout(0.5),\n",
        "    Dense(6, activation='sigmoid')  # Output layer with 6 nodes for 6 labels\n",
        "])\n",
        "\n",
        "# Compile the model\n",
        "model.compile(optimizer=Adam(learning_rate=0.001),\n",
        "              loss='binary_crossentropy',\n",
        "              metrics=['accuracy'])\n",
        "\n",
        "# Train the model (adjust epochs and batch size as needed)\n",
        "history = model.fit(X_train, y_train, epochs=3, batch_size=64, validation_data=(X_val, y_val))\n",
        "\n",
        "# Plot training history\n",
        "plt.figure(figsize=(8, 5))\n",
        "pd.DataFrame(history.history).plot()\n",
        "plt.show()\n",
        "\n",
        "# Function to score comment\n",
        "def score_comment(comment):\n",
        "    sequence = tokenizer.texts_to_sequences([comment])\n",
        "    padded_sequence = pad_sequences(sequence, maxlen=max_len)\n",
        "    results = model.predict(padded_sequence)\n",
        "\n",
        "    text = ''\n",
        "    for idx, col in enumerate(['toxic', 'severe_toxic', 'obscene', 'threat', 'insult', 'identity_hate']):\n",
        "        text += '{}: {}\\n'.format(col, results[0][idx] > 0.5)\n",
        "\n",
        "    return text\n",
        "\n",
        "# Create the Gradio interface\n",
        "iface = gr.Interface(\n",
        "    fn=score_comment,\n",
        "    inputs=gr.Textbox(lines=5, placeholder=\"Enter your comment here...\"),\n",
        "    outputs=\"text\",\n",
        "    title=\"Toxicity Detection App\",\n",
        "    description=\"Enter a comment to check its toxicity levels.\"\n",
        ")\n",
        "\n",
        "# Launch the interface\n",
        "iface.launch()"
      ],
      "metadata": {
        "colab": {
          "base_uri": "https://localhost:8080/",
          "height": 1000
        },
        "id": "p1AIBQfuwjgD",
        "outputId": "99afd8cd-6a07-471f-99b1-f4a5d4cf77ce"
      },
      "execution_count": 12,
      "outputs": [
        {
          "output_type": "stream",
          "name": "stdout",
          "text": [
            "Requirement already satisfied: pandas in /usr/local/lib/python3.10/dist-packages (2.0.3)\n",
            "Requirement already satisfied: python-dateutil>=2.8.2 in /usr/local/lib/python3.10/dist-packages (from pandas) (2.8.2)\n",
            "Requirement already satisfied: pytz>=2020.1 in /usr/local/lib/python3.10/dist-packages (from pandas) (2023.4)\n",
            "Requirement already satisfied: tzdata>=2022.1 in /usr/local/lib/python3.10/dist-packages (from pandas) (2024.1)\n",
            "Requirement already satisfied: numpy>=1.21.0 in /usr/local/lib/python3.10/dist-packages (from pandas) (1.25.2)\n",
            "Requirement already satisfied: six>=1.5 in /usr/local/lib/python3.10/dist-packages (from python-dateutil>=2.8.2->pandas) (1.16.0)\n",
            "Requirement already satisfied: matplotlib in /usr/local/lib/python3.10/dist-packages (3.7.1)\n",
            "Requirement already satisfied: contourpy>=1.0.1 in /usr/local/lib/python3.10/dist-packages (from matplotlib) (1.2.1)\n",
            "Requirement already satisfied: cycler>=0.10 in /usr/local/lib/python3.10/dist-packages (from matplotlib) (0.12.1)\n",
            "Requirement already satisfied: fonttools>=4.22.0 in /usr/local/lib/python3.10/dist-packages (from matplotlib) (4.53.1)\n",
            "Requirement already satisfied: kiwisolver>=1.0.1 in /usr/local/lib/python3.10/dist-packages (from matplotlib) (1.4.5)\n",
            "Requirement already satisfied: numpy>=1.20 in /usr/local/lib/python3.10/dist-packages (from matplotlib) (1.25.2)\n",
            "Requirement already satisfied: packaging>=20.0 in /usr/local/lib/python3.10/dist-packages (from matplotlib) (24.1)\n",
            "Requirement already satisfied: pillow>=6.2.0 in /usr/local/lib/python3.10/dist-packages (from matplotlib) (9.4.0)\n",
            "Requirement already satisfied: pyparsing>=2.3.1 in /usr/local/lib/python3.10/dist-packages (from matplotlib) (3.1.2)\n",
            "Requirement already satisfied: python-dateutil>=2.7 in /usr/local/lib/python3.10/dist-packages (from matplotlib) (2.8.2)\n",
            "Requirement already satisfied: six>=1.5 in /usr/local/lib/python3.10/dist-packages (from python-dateutil>=2.7->matplotlib) (1.16.0)\n",
            "Epoch 1/3\n",
            "250/250 [==============================] - 63s 225ms/step - loss: 0.2214 - accuracy: 0.4308 - val_loss: 0.1263 - val_accuracy: 0.9942\n",
            "Epoch 2/3\n",
            "250/250 [==============================] - 53s 212ms/step - loss: 0.1059 - accuracy: 0.6503 - val_loss: 0.0801 - val_accuracy: 0.9940\n",
            "Epoch 3/3\n",
            "1/1 [==============================] - 3s 3s/step\n",
            "250/250 [==============================] - 54s 217ms/step - loss: 0.0712 - accuracy: 0.8518 - val_loss: 0.0811 - val_accuracy: 0.9948\n",
            "1/1 [==============================] - 0s 32ms/step\n",
            "1/1 [==============================] - 0s 33ms/step\n",
            "1/1 [==============================] - 0s 31ms/step\n"
          ]
        },
        {
          "output_type": "display_data",
          "data": {
            "text/plain": [
              "<Figure size 800x500 with 0 Axes>"
            ]
          },
          "metadata": {}
        },
        {
          "output_type": "display_data",
          "data": {
            "text/plain": [
              "<Figure size 640x480 with 1 Axes>"
            ],
            "image/png": "[encoded data removed]"
          },
          "metadata": {}
        },
        {
          "output_type": "stream",
          "name": "stdout",
          "text": [
            "Setting queue=True in a Colab notebook requires sharing enabled. Setting `share=True` (you can turn this off by setting `share=False` in `launch()` explicitly).\n",
            "\n",
            "Colab notebook detected. To show errors in colab notebook, set debug=True in launch()\n",
            "Running on public URL: https://316fb43b52746bd149.gradio.live\n",
            "\n",
            "This share link expires in 72 hours. For free permanent hosting and GPU upgrades, run `gradio deploy` from Terminal to deploy to Spaces (https://huggingface.co/spaces)\n"
          ]
        },
        {
          "output_type": "display_data",
          "data": {
            "text/plain": [
              "<IPython.core.display.HTML object>"
            ],
            "text/html": [
              "<div><iframe src=\"https://316fb43b52746bd149.gradio.live\" width=\"100%\" height=\"500\" allow=\"autoplay; camera; microphone; clipboard-read; clipboard-write;\" frameborder=\"0\" allowfullscreen></iframe></div>"
            ]
          },
          "metadata": {}
        },
        {
          "output_type": "execute_result",
          "data": {
            "text/plain": []
          },
          "metadata": {},
          "execution_count": 12
        }
      ]
    }
  ]
}